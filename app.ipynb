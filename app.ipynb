{
 "cells": [
  {
   "cell_type": "code",
   "execution_count": null,
   "metadata": {},
   "outputs": [
    {
     "name": "stdout",
     "output_type": "stream",
     "text": [
      " * Serving Flask app \"__main__\" (lazy loading)\n",
      " * Environment: production\n",
      "   WARNING: This is a development server. Do not use it in a production deployment.\n",
      "   Use a production WSGI server instead.\n",
      " * Debug mode: off\n"
     ]
    },
    {
     "name": "stderr",
     "output_type": "stream",
     "text": [
      " * Running on http://127.0.0.1:5000/ (Press CTRL+C to quit)\n",
      "127.0.0.1 - - [20/Feb/2021 17:55:28] \"\u001b[37mGET / HTTP/1.1\u001b[0m\" 200 -\n",
      "127.0.0.1 - - [20/Feb/2021 17:55:41] \"\u001b[37mGET /extractor HTTP/1.1\u001b[0m\" 200 -\n"
     ]
    },
    {
     "name": "stdout",
     "output_type": "stream",
     "text": [
      "<class 'type'>\n",
      "Imagine you want to analyze thousands of online reviews about your blog. Keyword extraction helps you sift through the whole set of data and obtain the words that best describe each review in just seconds. That way, you can easily and automatically see what your viewers are mentioning most often, saving your teams hours upon hours of manual processing. This application saves lots of your time by quick analysis of tex\n",
      "<class 'str'>\n",
      "Imagine you want to analyze thousands of online reviews about your blog. Keyword extraction helps you sift through the whole set of data and obtain the words that best describe each review in just seconds. That way, you can easily and automatically see what your viewers are mentioning most often, saving your teams hours upon hours of manual processing. This application saves lots of your time by quick analysis of tex\n"
     ]
    },
    {
     "name": "stderr",
     "output_type": "stream",
     "text": [
      "127.0.0.1 - - [20/Feb/2021 17:55:58] \"\u001b[37mPOST /keywords HTTP/1.1\u001b[0m\" 200 -\n"
     ]
    },
    {
     "name": "stdout",
     "output_type": "stream",
     "text": [
      "[{'text': 'Imagine you want to analyze thousands of online reviews about your blog. Keyword extraction helps you sift through the whole set of data and obtain the words that best describe each review in just seconds. That way, you can easily and automatically see what your viewers are mentioning most often, saving your teams hours upon hours of manual processing. This application saves lots of your time by quick analysis of tex', 'external_id': None, 'error': False, 'extractions': [{'tag_name': 'KEYWORD', 'parsed_value': 'analysis of tex', 'count': 1, 'relevance': '0.968', 'positions_in_text': [405]}, {'tag_name': 'KEYWORD', 'parsed_value': 'set of data', 'count': 1, 'relevance': '0.968', 'positions_in_text': [125]}, {'tag_name': 'KEYWORD', 'parsed_value': 'whole set', 'count': 1, 'relevance': '0.645', 'positions_in_text': [119]}, {'tag_name': 'KEYWORD', 'parsed_value': 'keyword extraction', 'count': 1, 'relevance': '0.645', 'positions_in_text': [73]}, {'tag_name': 'KEYWORD', 'parsed_value': 'manual processing', 'count': 1, 'relevance': '0.645', 'positions_in_text': [336]}, {'tag_name': 'KEYWORD', 'parsed_value': 'team hours', 'count': 1, 'relevance': '0.645', 'positions_in_text': [310]}, {'tag_name': 'KEYWORD', 'parsed_value': 'quick analysis', 'count': 1, 'relevance': '0.645', 'positions_in_text': [399]}, {'tag_name': 'KEYWORD', 'parsed_value': 'online review', 'count': 1, 'relevance': '0.645', 'positions_in_text': [41]}, {'tag_name': 'KEYWORD', 'parsed_value': 'way', 'count': 1, 'relevance': '0.323', 'positions_in_text': [211]}, {'tag_name': 'KEYWORD', 'parsed_value': 'viewer', 'count': 1, 'relevance': '0.323', 'positions_in_text': [263]}]}]\n",
      "{'text': 'Imagine you want to analyze thousands of online reviews about your blog. Keyword extraction helps you sift through the whole set of data and obtain the words that best describe each review in just seconds. That way, you can easily and automatically see what your viewers are mentioning most often, saving your teams hours upon hours of manual processing. This application saves lots of your time by quick analysis of tex', 'external_id': None, 'error': False, 'extractions': [{'tag_name': 'KEYWORD', 'parsed_value': 'analysis of tex', 'count': 1, 'relevance': '0.968', 'positions_in_text': [405]}, {'tag_name': 'KEYWORD', 'parsed_value': 'set of data', 'count': 1, 'relevance': '0.968', 'positions_in_text': [125]}, {'tag_name': 'KEYWORD', 'parsed_value': 'whole set', 'count': 1, 'relevance': '0.645', 'positions_in_text': [119]}, {'tag_name': 'KEYWORD', 'parsed_value': 'keyword extraction', 'count': 1, 'relevance': '0.645', 'positions_in_text': [73]}, {'tag_name': 'KEYWORD', 'parsed_value': 'manual processing', 'count': 1, 'relevance': '0.645', 'positions_in_text': [336]}, {'tag_name': 'KEYWORD', 'parsed_value': 'team hours', 'count': 1, 'relevance': '0.645', 'positions_in_text': [310]}, {'tag_name': 'KEYWORD', 'parsed_value': 'quick analysis', 'count': 1, 'relevance': '0.645', 'positions_in_text': [399]}, {'tag_name': 'KEYWORD', 'parsed_value': 'online review', 'count': 1, 'relevance': '0.645', 'positions_in_text': [41]}, {'tag_name': 'KEYWORD', 'parsed_value': 'way', 'count': 1, 'relevance': '0.323', 'positions_in_text': [211]}, {'tag_name': 'KEYWORD', 'parsed_value': 'viewer', 'count': 1, 'relevance': '0.323', 'positions_in_text': [263]}]}\n",
      "<class 'dict'>\n",
      "[{'tag_name': 'KEYWORD', 'parsed_value': 'analysis of tex', 'count': 1, 'relevance': '0.968', 'positions_in_text': [405]}, {'tag_name': 'KEYWORD', 'parsed_value': 'set of data', 'count': 1, 'relevance': '0.968', 'positions_in_text': [125]}, {'tag_name': 'KEYWORD', 'parsed_value': 'whole set', 'count': 1, 'relevance': '0.645', 'positions_in_text': [119]}, {'tag_name': 'KEYWORD', 'parsed_value': 'keyword extraction', 'count': 1, 'relevance': '0.645', 'positions_in_text': [73]}, {'tag_name': 'KEYWORD', 'parsed_value': 'manual processing', 'count': 1, 'relevance': '0.645', 'positions_in_text': [336]}, {'tag_name': 'KEYWORD', 'parsed_value': 'team hours', 'count': 1, 'relevance': '0.645', 'positions_in_text': [310]}, {'tag_name': 'KEYWORD', 'parsed_value': 'quick analysis', 'count': 1, 'relevance': '0.645', 'positions_in_text': [399]}, {'tag_name': 'KEYWORD', 'parsed_value': 'online review', 'count': 1, 'relevance': '0.645', 'positions_in_text': [41]}, {'tag_name': 'KEYWORD', 'parsed_value': 'way', 'count': 1, 'relevance': '0.323', 'positions_in_text': [211]}, {'tag_name': 'KEYWORD', 'parsed_value': 'viewer', 'count': 1, 'relevance': '0.323', 'positions_in_text': [263]}]\n",
      "<class 'list'>\n",
      "analysis of tex\n",
      "set of data\n",
      "whole set\n",
      "keyword extraction\n",
      "manual processing\n",
      "team hours\n",
      "quick analysis\n",
      "online review\n",
      "way\n",
      "viewer\n",
      "['analysis of tex', 'set of data', 'whole set', 'keyword extraction', 'manual processing', 'team hours', 'quick analysis', 'online review', 'way', 'viewer']\n"
     ]
    },
    {
     "name": "stderr",
     "output_type": "stream",
     "text": [
      "127.0.0.1 - - [20/Feb/2021 17:58:08] \"\u001b[37mGET /extractor HTTP/1.1\u001b[0m\" 200 -\n"
     ]
    },
    {
     "name": "stdout",
     "output_type": "stream",
     "text": [
      "<class 'type'>\n",
      "het is hero or not\n",
      "<class 'str'>\n",
      "het is hero or not\n"
     ]
    },
    {
     "name": "stderr",
     "output_type": "stream",
     "text": [
      "127.0.0.1 - - [20/Feb/2021 17:58:20] \"\u001b[37mPOST /keywords HTTP/1.1\u001b[0m\" 200 -\n"
     ]
    },
    {
     "name": "stdout",
     "output_type": "stream",
     "text": [
      "[{'text': 'het is hero or not', 'external_id': None, 'error': False, 'extractions': [{'tag_name': 'KEYWORD', 'parsed_value': 'het', 'count': 1, 'relevance': '0.909', 'positions_in_text': [0]}, {'tag_name': 'KEYWORD', 'parsed_value': 'hero', 'count': 1, 'relevance': '0.909', 'positions_in_text': [7]}]}]\n",
      "{'text': 'het is hero or not', 'external_id': None, 'error': False, 'extractions': [{'tag_name': 'KEYWORD', 'parsed_value': 'het', 'count': 1, 'relevance': '0.909', 'positions_in_text': [0]}, {'tag_name': 'KEYWORD', 'parsed_value': 'hero', 'count': 1, 'relevance': '0.909', 'positions_in_text': [7]}]}\n",
      "<class 'dict'>\n",
      "[{'tag_name': 'KEYWORD', 'parsed_value': 'het', 'count': 1, 'relevance': '0.909', 'positions_in_text': [0]}, {'tag_name': 'KEYWORD', 'parsed_value': 'hero', 'count': 1, 'relevance': '0.909', 'positions_in_text': [7]}]\n",
      "<class 'list'>\n",
      "het\n",
      "hero\n",
      "['het', 'hero']\n"
     ]
    },
    {
     "name": "stderr",
     "output_type": "stream",
     "text": [
      "127.0.0.1 - - [20/Feb/2021 18:02:03] \"\u001b[37mGET / HTTP/1.1\u001b[0m\" 200 -\n",
      "127.0.0.1 - - [20/Feb/2021 18:02:15] \"\u001b[37mGET /extractor HTTP/1.1\u001b[0m\" 200 -\n",
      "127.0.0.1 - - [20/Feb/2021 18:02:16] \"\u001b[37mGET / HTTP/1.1\u001b[0m\" 200 -\n",
      "127.0.0.1 - - [20/Feb/2021 18:02:18] \"\u001b[37mGET /extractor HTTP/1.1\u001b[0m\" 200 -\n",
      "127.0.0.1 - - [20/Feb/2021 18:02:51] \"\u001b[31m\u001b[1mPOST /keywords HTTP/1.1\u001b[0m\" 400 -\n"
     ]
    },
    {
     "name": "stdout",
     "output_type": "stream",
     "text": [
      "<class 'type'>\n"
     ]
    },
    {
     "name": "stderr",
     "output_type": "stream",
     "text": [
      "127.0.0.1 - - [20/Feb/2021 18:02:59] \"\u001b[37mGET / HTTP/1.1\u001b[0m\" 200 -\n",
      "127.0.0.1 - - [20/Feb/2021 18:03:02] \"\u001b[37mGET /extractor HTTP/1.1\u001b[0m\" 200 -\n"
     ]
    },
    {
     "name": "stdout",
     "output_type": "stream",
     "text": [
      "<class 'type'>\n",
      "het is hero\n",
      "<class 'str'>\n",
      "het is hero\n"
     ]
    },
    {
     "name": "stderr",
     "output_type": "stream",
     "text": [
      "127.0.0.1 - - [20/Feb/2021 18:03:10] \"\u001b[37mPOST /keywords HTTP/1.1\u001b[0m\" 200 -\n"
     ]
    },
    {
     "name": "stdout",
     "output_type": "stream",
     "text": [
      "[{'text': 'het is hero', 'external_id': None, 'error': False, 'extractions': [{'tag_name': 'KEYWORD', 'parsed_value': 'het', 'count': 1, 'relevance': '0.909', 'positions_in_text': [0]}, {'tag_name': 'KEYWORD', 'parsed_value': 'hero', 'count': 1, 'relevance': '0.909', 'positions_in_text': [7]}]}]\n",
      "{'text': 'het is hero', 'external_id': None, 'error': False, 'extractions': [{'tag_name': 'KEYWORD', 'parsed_value': 'het', 'count': 1, 'relevance': '0.909', 'positions_in_text': [0]}, {'tag_name': 'KEYWORD', 'parsed_value': 'hero', 'count': 1, 'relevance': '0.909', 'positions_in_text': [7]}]}\n",
      "<class 'dict'>\n",
      "[{'tag_name': 'KEYWORD', 'parsed_value': 'het', 'count': 1, 'relevance': '0.909', 'positions_in_text': [0]}, {'tag_name': 'KEYWORD', 'parsed_value': 'hero', 'count': 1, 'relevance': '0.909', 'positions_in_text': [7]}]\n",
      "<class 'list'>\n",
      "het\n",
      "hero\n",
      "['het', 'hero']\n"
     ]
    },
    {
     "name": "stderr",
     "output_type": "stream",
     "text": [
      "127.0.0.1 - - [20/Feb/2021 18:03:30] \"\u001b[37mGET /extractor HTTP/1.1\u001b[0m\" 200 -\n"
     ]
    },
    {
     "name": "stdout",
     "output_type": "stream",
     "text": [
      "<class 'type'>\n",
      "\r\n",
      "Bitcoin is a cryptocurrency invented in 2008 by an unknown person or group of people using the name Satoshi Nakamoto. The currency began use in 2009 when its implementation was released as open-source software.\n",
      "<class 'str'>\n",
      "  Bitcoin is a cryptocurrency invented in      by an unknown person or group of people using the name Satoshi Nakamoto. The currency began use in      when its implementation was released as open source software.\n"
     ]
    },
    {
     "name": "stderr",
     "output_type": "stream",
     "text": [
      "127.0.0.1 - - [20/Feb/2021 18:04:06] \"\u001b[37mPOST /keywords HTTP/1.1\u001b[0m\" 200 -\n"
     ]
    },
    {
     "name": "stdout",
     "output_type": "stream",
     "text": [
      "[{'text': '  Bitcoin is a cryptocurrency invented in      by an unknown person or group of people using the name Satoshi Nakamoto. The currency began use in      when its implementation was released as open source software.', 'external_id': None, 'error': False, 'extractions': [{'tag_name': 'KEYWORD', 'parsed_value': 'name satoshi nakamoto', 'count': 1, 'relevance': '0.968', 'positions_in_text': [95]}, {'tag_name': 'KEYWORD', 'parsed_value': 'group of people', 'count': 1, 'relevance': '0.968', 'positions_in_text': [69]}, {'tag_name': 'KEYWORD', 'parsed_value': 'open source software', 'count': 1, 'relevance': '0.968', 'positions_in_text': [189]}, {'tag_name': 'KEYWORD', 'parsed_value': 'unknown person', 'count': 1, 'relevance': '0.645', 'positions_in_text': [51]}, {'tag_name': 'KEYWORD', 'parsed_value': 'use', 'count': 1, 'relevance': '0.323', 'positions_in_text': [137]}, {'tag_name': 'KEYWORD', 'parsed_value': 'implementation', 'count': 1, 'relevance': '0.323', 'positions_in_text': [158]}, {'tag_name': 'KEYWORD', 'parsed_value': 'bitcoin', 'count': 1, 'relevance': '0.323', 'positions_in_text': [0]}, {'tag_name': 'KEYWORD', 'parsed_value': 'cryptocurrency', 'count': 1, 'relevance': '0.323', 'positions_in_text': [13]}, {'tag_name': 'KEYWORD', 'parsed_value': 'currency', 'count': 1, 'relevance': '0.323', 'positions_in_text': [122]}]}]\n",
      "{'text': '  Bitcoin is a cryptocurrency invented in      by an unknown person or group of people using the name Satoshi Nakamoto. The currency began use in      when its implementation was released as open source software.', 'external_id': None, 'error': False, 'extractions': [{'tag_name': 'KEYWORD', 'parsed_value': 'name satoshi nakamoto', 'count': 1, 'relevance': '0.968', 'positions_in_text': [95]}, {'tag_name': 'KEYWORD', 'parsed_value': 'group of people', 'count': 1, 'relevance': '0.968', 'positions_in_text': [69]}, {'tag_name': 'KEYWORD', 'parsed_value': 'open source software', 'count': 1, 'relevance': '0.968', 'positions_in_text': [189]}, {'tag_name': 'KEYWORD', 'parsed_value': 'unknown person', 'count': 1, 'relevance': '0.645', 'positions_in_text': [51]}, {'tag_name': 'KEYWORD', 'parsed_value': 'use', 'count': 1, 'relevance': '0.323', 'positions_in_text': [137]}, {'tag_name': 'KEYWORD', 'parsed_value': 'implementation', 'count': 1, 'relevance': '0.323', 'positions_in_text': [158]}, {'tag_name': 'KEYWORD', 'parsed_value': 'bitcoin', 'count': 1, 'relevance': '0.323', 'positions_in_text': [0]}, {'tag_name': 'KEYWORD', 'parsed_value': 'cryptocurrency', 'count': 1, 'relevance': '0.323', 'positions_in_text': [13]}, {'tag_name': 'KEYWORD', 'parsed_value': 'currency', 'count': 1, 'relevance': '0.323', 'positions_in_text': [122]}]}\n",
      "<class 'dict'>\n",
      "[{'tag_name': 'KEYWORD', 'parsed_value': 'name satoshi nakamoto', 'count': 1, 'relevance': '0.968', 'positions_in_text': [95]}, {'tag_name': 'KEYWORD', 'parsed_value': 'group of people', 'count': 1, 'relevance': '0.968', 'positions_in_text': [69]}, {'tag_name': 'KEYWORD', 'parsed_value': 'open source software', 'count': 1, 'relevance': '0.968', 'positions_in_text': [189]}, {'tag_name': 'KEYWORD', 'parsed_value': 'unknown person', 'count': 1, 'relevance': '0.645', 'positions_in_text': [51]}, {'tag_name': 'KEYWORD', 'parsed_value': 'use', 'count': 1, 'relevance': '0.323', 'positions_in_text': [137]}, {'tag_name': 'KEYWORD', 'parsed_value': 'implementation', 'count': 1, 'relevance': '0.323', 'positions_in_text': [158]}, {'tag_name': 'KEYWORD', 'parsed_value': 'bitcoin', 'count': 1, 'relevance': '0.323', 'positions_in_text': [0]}, {'tag_name': 'KEYWORD', 'parsed_value': 'cryptocurrency', 'count': 1, 'relevance': '0.323', 'positions_in_text': [13]}, {'tag_name': 'KEYWORD', 'parsed_value': 'currency', 'count': 1, 'relevance': '0.323', 'positions_in_text': [122]}]\n",
      "<class 'list'>\n",
      "name satoshi nakamoto\n",
      "group of people\n",
      "open source software\n",
      "unknown person\n",
      "use\n",
      "implementation\n",
      "bitcoin\n",
      "cryptocurrency\n",
      "currency\n",
      "['name satoshi nakamoto', 'group of people', 'open source software', 'unknown person', 'use', 'implementation', 'bitcoin', 'cryptocurrency', 'currency']\n"
     ]
    },
    {
     "name": "stderr",
     "output_type": "stream",
     "text": [
      "127.0.0.1 - - [20/Feb/2021 18:10:17] \"\u001b[37mGET /extractor HTTP/1.1\u001b[0m\" 200 -\n"
     ]
    },
    {
     "name": "stdout",
     "output_type": "stream",
     "text": [
      "<class 'type'>\n",
      "Bitcoin is a cryptocurrency invented in 2008 by an unknown person or group of people using the name Satoshi Nakamoto. The currency began use in 2009 when its implementation was released as open-source software.\n",
      "<class 'str'>\n",
      "Bitcoin is a cryptocurrency invented in      by an unknown person or group of people using the name Satoshi Nakamoto. The currency began use in      when its implementation was released as open source software.\n"
     ]
    },
    {
     "name": "stderr",
     "output_type": "stream",
     "text": [
      "127.0.0.1 - - [20/Feb/2021 18:11:01] \"\u001b[37mPOST /keywords HTTP/1.1\u001b[0m\" 200 -\n"
     ]
    },
    {
     "name": "stdout",
     "output_type": "stream",
     "text": [
      "[{'text': 'Bitcoin is a cryptocurrency invented in      by an unknown person or group of people using the name Satoshi Nakamoto. The currency began use in      when its implementation was released as open source software.', 'external_id': None, 'error': False, 'extractions': [{'tag_name': 'KEYWORD', 'parsed_value': 'name satoshi nakamoto', 'count': 1, 'relevance': '0.968', 'positions_in_text': [95]}, {'tag_name': 'KEYWORD', 'parsed_value': 'group of people', 'count': 1, 'relevance': '0.968', 'positions_in_text': [69]}, {'tag_name': 'KEYWORD', 'parsed_value': 'open source software', 'count': 1, 'relevance': '0.968', 'positions_in_text': [189]}, {'tag_name': 'KEYWORD', 'parsed_value': 'unknown person', 'count': 1, 'relevance': '0.645', 'positions_in_text': [51]}, {'tag_name': 'KEYWORD', 'parsed_value': 'use', 'count': 1, 'relevance': '0.323', 'positions_in_text': [137]}, {'tag_name': 'KEYWORD', 'parsed_value': 'implementation', 'count': 1, 'relevance': '0.323', 'positions_in_text': [158]}, {'tag_name': 'KEYWORD', 'parsed_value': 'bitcoin', 'count': 1, 'relevance': '0.323', 'positions_in_text': [0]}, {'tag_name': 'KEYWORD', 'parsed_value': 'cryptocurrency', 'count': 1, 'relevance': '0.323', 'positions_in_text': [13]}, {'tag_name': 'KEYWORD', 'parsed_value': 'currency', 'count': 1, 'relevance': '0.323', 'positions_in_text': [122]}]}]\n",
      "{'text': 'Bitcoin is a cryptocurrency invented in      by an unknown person or group of people using the name Satoshi Nakamoto. The currency began use in      when its implementation was released as open source software.', 'external_id': None, 'error': False, 'extractions': [{'tag_name': 'KEYWORD', 'parsed_value': 'name satoshi nakamoto', 'count': 1, 'relevance': '0.968', 'positions_in_text': [95]}, {'tag_name': 'KEYWORD', 'parsed_value': 'group of people', 'count': 1, 'relevance': '0.968', 'positions_in_text': [69]}, {'tag_name': 'KEYWORD', 'parsed_value': 'open source software', 'count': 1, 'relevance': '0.968', 'positions_in_text': [189]}, {'tag_name': 'KEYWORD', 'parsed_value': 'unknown person', 'count': 1, 'relevance': '0.645', 'positions_in_text': [51]}, {'tag_name': 'KEYWORD', 'parsed_value': 'use', 'count': 1, 'relevance': '0.323', 'positions_in_text': [137]}, {'tag_name': 'KEYWORD', 'parsed_value': 'implementation', 'count': 1, 'relevance': '0.323', 'positions_in_text': [158]}, {'tag_name': 'KEYWORD', 'parsed_value': 'bitcoin', 'count': 1, 'relevance': '0.323', 'positions_in_text': [0]}, {'tag_name': 'KEYWORD', 'parsed_value': 'cryptocurrency', 'count': 1, 'relevance': '0.323', 'positions_in_text': [13]}, {'tag_name': 'KEYWORD', 'parsed_value': 'currency', 'count': 1, 'relevance': '0.323', 'positions_in_text': [122]}]}\n",
      "<class 'dict'>\n",
      "[{'tag_name': 'KEYWORD', 'parsed_value': 'name satoshi nakamoto', 'count': 1, 'relevance': '0.968', 'positions_in_text': [95]}, {'tag_name': 'KEYWORD', 'parsed_value': 'group of people', 'count': 1, 'relevance': '0.968', 'positions_in_text': [69]}, {'tag_name': 'KEYWORD', 'parsed_value': 'open source software', 'count': 1, 'relevance': '0.968', 'positions_in_text': [189]}, {'tag_name': 'KEYWORD', 'parsed_value': 'unknown person', 'count': 1, 'relevance': '0.645', 'positions_in_text': [51]}, {'tag_name': 'KEYWORD', 'parsed_value': 'use', 'count': 1, 'relevance': '0.323', 'positions_in_text': [137]}, {'tag_name': 'KEYWORD', 'parsed_value': 'implementation', 'count': 1, 'relevance': '0.323', 'positions_in_text': [158]}, {'tag_name': 'KEYWORD', 'parsed_value': 'bitcoin', 'count': 1, 'relevance': '0.323', 'positions_in_text': [0]}, {'tag_name': 'KEYWORD', 'parsed_value': 'cryptocurrency', 'count': 1, 'relevance': '0.323', 'positions_in_text': [13]}, {'tag_name': 'KEYWORD', 'parsed_value': 'currency', 'count': 1, 'relevance': '0.323', 'positions_in_text': [122]}]\n",
      "<class 'list'>\n",
      "name satoshi nakamoto\n",
      "group of people\n",
      "open source software\n",
      "unknown person\n",
      "use\n",
      "implementation\n",
      "bitcoin\n",
      "cryptocurrency\n",
      "currency\n",
      "['name satoshi nakamoto', 'group of people', 'open source software', 'unknown person', 'use', 'implementation', 'bitcoin', 'cryptocurrency', 'currency']\n"
     ]
    }
   ],
   "source": [
    "from monkeylearn import MonkeyLearn\n",
    "from flask import Flask, request, render_template\n",
    "import re\n",
    "import requests\n",
    "\n",
    "app = Flask(__name__)\n",
    "\n",
    "\n",
    "    \n",
    "\n",
    "#home page\n",
    "@app.route('/')\n",
    "def home():\n",
    "    return render_template('home.html')\n",
    "\n",
    "#home page\n",
    "@app.route('/extractor')\n",
    "def extractor():\n",
    "    return render_template('extractor.html')\n",
    "\n",
    "#extractor page\n",
    "@app.route('/keywords',  methods=['POST'])\n",
    "def keywords():\n",
    "    ml = MonkeyLearn('adc2b91f1e63d6140722f8adf37cae5f1610a27c')\n",
    "    typ=request.form['type']\n",
    "    model_id = 'ex_YCya9nrn'\n",
    "    print(type)\n",
    "    output = request.form['output']\n",
    "    print(output)\n",
    "    print(type(output))\n",
    "    if typ==\"text\":\n",
    "        output=re.sub(\"[^a-zA-Z.,]\",\" \",output)\n",
    "    print(output)\n",
    "\n",
    "    keywordresult = ml.extractors.extract(model_id, [output])\n",
    "    print(keywordresult.body)\n",
    "    a = keywordresult.body[0]\n",
    "    print (a)\n",
    "    print(type(a))\n",
    "    b = a['extractions']\n",
    "    print(b)\n",
    "    print(type(b))\n",
    "    \n",
    "    keywords = []\n",
    "    entities = []\n",
    "    \n",
    "    for i in b:\n",
    "        keywords.append(i['parsed_value'])\n",
    "       \n",
    "        print (i['parsed_value'])\n",
    "        \n",
    "    print(keywords)\n",
    "   \n",
    "    #return keywords\n",
    "    return render_template('keywords.html',keyword =keywords)\n",
    "    #return render_template('extractor.html',keyword = keywords)\n",
    "\n",
    "\n",
    "    \n",
    "if __name__ == \"__main__\":\n",
    "    app.run(debug=False)\n"
   ]
  },
  {
   "cell_type": "code",
   "execution_count": null,
   "metadata": {},
   "outputs": [],
   "source": []
  },
  {
   "cell_type": "code",
   "execution_count": null,
   "metadata": {},
   "outputs": [],
   "source": []
  },
  {
   "cell_type": "code",
   "execution_count": null,
   "metadata": {},
   "outputs": [],
   "source": []
  },
  {
   "cell_type": "code",
   "execution_count": null,
   "metadata": {},
   "outputs": [],
   "source": []
  }
 ],
 "metadata": {
  "kernelspec": {
   "display_name": "Python 3",
   "language": "python",
   "name": "python3"
  },
  "language_info": {
   "codemirror_mode": {
    "name": "ipython",
    "version": 3
   },
   "file_extension": ".py",
   "mimetype": "text/x-python",
   "name": "python",
   "nbconvert_exporter": "python",
   "pygments_lexer": "ipython3",
   "version": "3.8.5"
  }
 },
 "nbformat": 4,
 "nbformat_minor": 4
}
